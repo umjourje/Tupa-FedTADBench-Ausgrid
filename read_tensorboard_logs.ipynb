{
 "cells": [
  {
   "cell_type": "code",
   "execution_count": 7,
   "metadata": {},
   "outputs": [],
   "source": [
    "from packaging import version\n",
    "\n",
    "import pandas as pd\n",
    "from matplotlib import pyplot as plt\n",
    "import seaborn as sns\n",
    "from scipy import stats\n",
    "import tensorboard as tb\n",
    "\n",
    "from lightning.pytorch.loggers import TensorBoardLogger"
   ]
  },
  {
   "cell_type": "code",
   "execution_count": 3,
   "metadata": {},
   "outputs": [
    {
     "name": "stdout",
     "output_type": "stream",
     "text": [
      "TensorBoard version:  2.16.2\n"
     ]
    }
   ],
   "source": [
    "major_ver, minor_ver, _ = version.parse(tb.__version__).release\n",
    "assert major_ver >= 2 and minor_ver >= 3, \\\n",
    "    \"This notebook requires TensorBoard 2.3 or later.\"\n",
    "print(\"TensorBoard version: \", tb.__version__)"
   ]
  },
  {
   "cell_type": "markdown",
   "metadata": {},
   "source": [
    "Reference from [Ben Chuanlong Du's Blog](https://www.legendu.net/en/blog/read-tensorboard-logs/)"
   ]
  },
  {
   "cell_type": "code",
   "execution_count": 1,
   "metadata": {},
   "outputs": [],
   "source": [
    "from tensorboard.backend.event_processing.event_accumulator import EventAccumulator\n",
    "import pandas as pd"
   ]
  },
  {
   "cell_type": "markdown",
   "metadata": {},
   "source": [
    "## Charts - Federated with 5 clients"
   ]
  },
  {
   "cell_type": "markdown",
   "metadata": {},
   "source": [
    "### Generating the pandas dataframes"
   ]
  },
  {
   "cell_type": "code",
   "execution_count": 25,
   "metadata": {},
   "outputs": [
    {
     "name": "stdout",
     "output_type": "stream",
     "text": [
      "0\n",
      "1\n",
      "2\n",
      "3\n",
      "4\n",
      "5\n",
      "6\n",
      "7\n",
      "8\n",
      "9\n",
      "10\n",
      "11\n",
      "12\n",
      "13\n",
      "14\n",
      "15\n",
      "16\n",
      "17\n",
      "18\n",
      "19\n",
      "20\n",
      "21\n",
      "22\n",
      "23\n",
      "24\n",
      "25\n",
      "26\n",
      "27\n",
      "28\n",
      "29\n",
      "30\n",
      "31\n",
      "32\n",
      "33\n",
      "34\n",
      "35\n",
      "36\n",
      "37\n",
      "38\n",
      "39\n",
      "40\n",
      "41\n",
      "42\n",
      "43\n"
     ]
    }
   ],
   "source": [
    "temp_auc_fed = pd.DataFrame()\n",
    "\n",
    "for index in range(44):\n",
    "    acc = EventAccumulator(\n",
    "        f'/home/labnet/Documents/JulianaPiaz/quickstart-pytorch-lightning/tb_logs/trial_5c/version_{index}'\n",
    "    )\n",
    "    acc.Reload()\n",
    "    print(index)\n",
    "    if(index not in [21, 23, 29, 33, 34]):\n",
    "        a = pd.DataFrame(acc.Scalars(\"test_auc_roc\"))\n",
    "        a['version'] = index\n",
    "        temp_auc_fed = pd.concat([temp_auc_fed, a])"
   ]
  },
  {
   "cell_type": "code",
   "execution_count": 26,
   "metadata": {},
   "outputs": [
    {
     "name": "stdout",
     "output_type": "stream",
     "text": [
      "0\n",
      "1\n",
      "2\n",
      "3\n",
      "4\n",
      "5\n",
      "6\n",
      "7\n",
      "8\n",
      "9\n",
      "10\n",
      "11\n",
      "12\n",
      "13\n",
      "14\n",
      "15\n",
      "16\n",
      "17\n",
      "18\n",
      "19\n",
      "20\n",
      "21\n",
      "22\n",
      "23\n",
      "24\n",
      "25\n",
      "26\n",
      "27\n",
      "28\n",
      "29\n",
      "30\n",
      "31\n",
      "32\n",
      "33\n",
      "34\n",
      "35\n",
      "36\n",
      "37\n",
      "38\n",
      "39\n",
      "40\n",
      "41\n",
      "42\n",
      "43\n"
     ]
    }
   ],
   "source": [
    "temp_avg_prec_fed = pd.DataFrame()\n",
    "\n",
    "for index in range(44):\n",
    "    acc2 = EventAccumulator(\n",
    "        f'/home/labnet/Documents/JulianaPiaz/quickstart-pytorch-lightning/tb_logs/trial_5c/version_{index}'\n",
    "    )\n",
    "    acc2.Reload()\n",
    "    print(index)\n",
    "    if(index not in [21, 23, 29, 33, 34]):\n",
    "        b = pd.DataFrame(acc2.Scalars(\"test_avg_precision\"))\n",
    "        b['version'] = index\n",
    "        temp_avg_prec_fed = pd.concat([temp_avg_prec_fed, b])"
   ]
  },
  {
   "cell_type": "code",
   "execution_count": 27,
   "metadata": {},
   "outputs": [
    {
     "name": "stdout",
     "output_type": "stream",
     "text": [
      "0\n",
      "1\n",
      "2\n",
      "3\n",
      "4\n",
      "5\n",
      "6\n",
      "7\n",
      "8\n",
      "9\n",
      "10\n",
      "11\n",
      "12\n",
      "13\n",
      "14\n",
      "15\n",
      "16\n",
      "17\n",
      "18\n",
      "19\n",
      "20\n",
      "21\n",
      "22\n",
      "23\n",
      "24\n",
      "25\n",
      "26\n",
      "27\n",
      "28\n",
      "29\n",
      "30\n",
      "31\n",
      "32\n",
      "33\n",
      "34\n",
      "35\n",
      "36\n",
      "37\n",
      "38\n",
      "39\n",
      "40\n",
      "41\n",
      "42\n",
      "43\n"
     ]
    }
   ],
   "source": [
    "temp_loss_fed = pd.DataFrame()\n",
    "\n",
    "for index in range(44):\n",
    "    acc3 = EventAccumulator(\n",
    "        f'/home/labnet/Documents/JulianaPiaz/quickstart-pytorch-lightning/tb_logs/trial_5c/version_{index}'\n",
    "    )\n",
    "    acc3.Reload()\n",
    "    print(index)\n",
    "    if(index not in [21, 23, 29, 33, 34]):\n",
    "        c = pd.DataFrame(acc3.Scalars(\"test_loss\"))\n",
    "        c['version'] = index\n",
    "        temp_loss_fed = pd.concat([temp_loss_fed, c])"
   ]
  },
  {
   "cell_type": "code",
   "execution_count": 28,
   "metadata": {},
   "outputs": [
    {
     "data": {
      "text/html": [
       "<div>\n",
       "<style scoped>\n",
       "    .dataframe tbody tr th:only-of-type {\n",
       "        vertical-align: middle;\n",
       "    }\n",
       "\n",
       "    .dataframe tbody tr th {\n",
       "        vertical-align: top;\n",
       "    }\n",
       "\n",
       "    .dataframe thead th {\n",
       "        text-align: right;\n",
       "    }\n",
       "</style>\n",
       "<table border=\"1\" class=\"dataframe\">\n",
       "  <thead>\n",
       "    <tr style=\"text-align: right;\">\n",
       "      <th></th>\n",
       "      <th>wall_time</th>\n",
       "      <th>step</th>\n",
       "      <th>value</th>\n",
       "      <th>version</th>\n",
       "    </tr>\n",
       "  </thead>\n",
       "  <tbody>\n",
       "    <tr>\n",
       "      <th>0</th>\n",
       "      <td>1.712412e+09</td>\n",
       "      <td>0</td>\n",
       "      <td>0.596543</td>\n",
       "      <td>0</td>\n",
       "    </tr>\n",
       "    <tr>\n",
       "      <th>0</th>\n",
       "      <td>1.712412e+09</td>\n",
       "      <td>0</td>\n",
       "      <td>0.508669</td>\n",
       "      <td>1</td>\n",
       "    </tr>\n",
       "    <tr>\n",
       "      <th>0</th>\n",
       "      <td>1.712412e+09</td>\n",
       "      <td>0</td>\n",
       "      <td>0.494705</td>\n",
       "      <td>2</td>\n",
       "    </tr>\n",
       "    <tr>\n",
       "      <th>1</th>\n",
       "      <td>1.712412e+09</td>\n",
       "      <td>0</td>\n",
       "      <td>0.517512</td>\n",
       "      <td>2</td>\n",
       "    </tr>\n",
       "    <tr>\n",
       "      <th>2</th>\n",
       "      <td>1.712412e+09</td>\n",
       "      <td>0</td>\n",
       "      <td>0.495359</td>\n",
       "      <td>2</td>\n",
       "    </tr>\n",
       "    <tr>\n",
       "      <th>...</th>\n",
       "      <td>...</td>\n",
       "      <td>...</td>\n",
       "      <td>...</td>\n",
       "      <td>...</td>\n",
       "    </tr>\n",
       "    <tr>\n",
       "      <th>0</th>\n",
       "      <td>1.712523e+09</td>\n",
       "      <td>0</td>\n",
       "      <td>0.547653</td>\n",
       "      <td>42</td>\n",
       "    </tr>\n",
       "    <tr>\n",
       "      <th>1</th>\n",
       "      <td>1.712523e+09</td>\n",
       "      <td>0</td>\n",
       "      <td>0.547949</td>\n",
       "      <td>42</td>\n",
       "    </tr>\n",
       "    <tr>\n",
       "      <th>0</th>\n",
       "      <td>1.712523e+09</td>\n",
       "      <td>0</td>\n",
       "      <td>0.514041</td>\n",
       "      <td>43</td>\n",
       "    </tr>\n",
       "    <tr>\n",
       "      <th>1</th>\n",
       "      <td>1.712523e+09</td>\n",
       "      <td>0</td>\n",
       "      <td>0.514779</td>\n",
       "      <td>43</td>\n",
       "    </tr>\n",
       "    <tr>\n",
       "      <th>2</th>\n",
       "      <td>1.712524e+09</td>\n",
       "      <td>0</td>\n",
       "      <td>0.515148</td>\n",
       "      <td>43</td>\n",
       "    </tr>\n",
       "  </tbody>\n",
       "</table>\n",
       "<p>96 rows × 4 columns</p>\n",
       "</div>"
      ],
      "text/plain": [
       "       wall_time  step     value  version\n",
       "0   1.712412e+09     0  0.596543        0\n",
       "0   1.712412e+09     0  0.508669        1\n",
       "0   1.712412e+09     0  0.494705        2\n",
       "1   1.712412e+09     0  0.517512        2\n",
       "2   1.712412e+09     0  0.495359        2\n",
       "..           ...   ...       ...      ...\n",
       "0   1.712523e+09     0  0.547653       42\n",
       "1   1.712523e+09     0  0.547949       42\n",
       "0   1.712523e+09     0  0.514041       43\n",
       "1   1.712523e+09     0  0.514779       43\n",
       "2   1.712524e+09     0  0.515148       43\n",
       "\n",
       "[96 rows x 4 columns]"
      ]
     },
     "execution_count": 28,
     "metadata": {},
     "output_type": "execute_result"
    }
   ],
   "source": [
    "temp_auc_fed"
   ]
  },
  {
   "cell_type": "code",
   "execution_count": 29,
   "metadata": {},
   "outputs": [
    {
     "data": {
      "text/html": [
       "<div>\n",
       "<style scoped>\n",
       "    .dataframe tbody tr th:only-of-type {\n",
       "        vertical-align: middle;\n",
       "    }\n",
       "\n",
       "    .dataframe tbody tr th {\n",
       "        vertical-align: top;\n",
       "    }\n",
       "\n",
       "    .dataframe thead th {\n",
       "        text-align: right;\n",
       "    }\n",
       "</style>\n",
       "<table border=\"1\" class=\"dataframe\">\n",
       "  <thead>\n",
       "    <tr style=\"text-align: right;\">\n",
       "      <th></th>\n",
       "      <th>wall_time</th>\n",
       "      <th>step</th>\n",
       "      <th>value</th>\n",
       "      <th>version</th>\n",
       "    </tr>\n",
       "  </thead>\n",
       "  <tbody>\n",
       "    <tr>\n",
       "      <th>0</th>\n",
       "      <td>1.712412e+09</td>\n",
       "      <td>0</td>\n",
       "      <td>0.105341</td>\n",
       "      <td>0</td>\n",
       "    </tr>\n",
       "    <tr>\n",
       "      <th>0</th>\n",
       "      <td>1.712412e+09</td>\n",
       "      <td>0</td>\n",
       "      <td>0.026803</td>\n",
       "      <td>1</td>\n",
       "    </tr>\n",
       "    <tr>\n",
       "      <th>0</th>\n",
       "      <td>1.712412e+09</td>\n",
       "      <td>0</td>\n",
       "      <td>0.030062</td>\n",
       "      <td>2</td>\n",
       "    </tr>\n",
       "    <tr>\n",
       "      <th>1</th>\n",
       "      <td>1.712412e+09</td>\n",
       "      <td>0</td>\n",
       "      <td>0.048046</td>\n",
       "      <td>2</td>\n",
       "    </tr>\n",
       "    <tr>\n",
       "      <th>2</th>\n",
       "      <td>1.712412e+09</td>\n",
       "      <td>0</td>\n",
       "      <td>0.030068</td>\n",
       "      <td>2</td>\n",
       "    </tr>\n",
       "    <tr>\n",
       "      <th>...</th>\n",
       "      <td>...</td>\n",
       "      <td>...</td>\n",
       "      <td>...</td>\n",
       "      <td>...</td>\n",
       "    </tr>\n",
       "    <tr>\n",
       "      <th>0</th>\n",
       "      <td>1.712523e+09</td>\n",
       "      <td>0</td>\n",
       "      <td>0.031810</td>\n",
       "      <td>42</td>\n",
       "    </tr>\n",
       "    <tr>\n",
       "      <th>1</th>\n",
       "      <td>1.712523e+09</td>\n",
       "      <td>0</td>\n",
       "      <td>0.031775</td>\n",
       "      <td>42</td>\n",
       "    </tr>\n",
       "    <tr>\n",
       "      <th>0</th>\n",
       "      <td>1.712523e+09</td>\n",
       "      <td>0</td>\n",
       "      <td>0.027325</td>\n",
       "      <td>43</td>\n",
       "    </tr>\n",
       "    <tr>\n",
       "      <th>1</th>\n",
       "      <td>1.712523e+09</td>\n",
       "      <td>0</td>\n",
       "      <td>0.027293</td>\n",
       "      <td>43</td>\n",
       "    </tr>\n",
       "    <tr>\n",
       "      <th>2</th>\n",
       "      <td>1.712524e+09</td>\n",
       "      <td>0</td>\n",
       "      <td>0.027281</td>\n",
       "      <td>43</td>\n",
       "    </tr>\n",
       "  </tbody>\n",
       "</table>\n",
       "<p>96 rows × 4 columns</p>\n",
       "</div>"
      ],
      "text/plain": [
       "       wall_time  step     value  version\n",
       "0   1.712412e+09     0  0.105341        0\n",
       "0   1.712412e+09     0  0.026803        1\n",
       "0   1.712412e+09     0  0.030062        2\n",
       "1   1.712412e+09     0  0.048046        2\n",
       "2   1.712412e+09     0  0.030068        2\n",
       "..           ...   ...       ...      ...\n",
       "0   1.712523e+09     0  0.031810       42\n",
       "1   1.712523e+09     0  0.031775       42\n",
       "0   1.712523e+09     0  0.027325       43\n",
       "1   1.712523e+09     0  0.027293       43\n",
       "2   1.712524e+09     0  0.027281       43\n",
       "\n",
       "[96 rows x 4 columns]"
      ]
     },
     "execution_count": 29,
     "metadata": {},
     "output_type": "execute_result"
    }
   ],
   "source": [
    "temp_avg_prec_fed"
   ]
  },
  {
   "cell_type": "code",
   "execution_count": 30,
   "metadata": {},
   "outputs": [
    {
     "data": {
      "text/html": [
       "<div>\n",
       "<style scoped>\n",
       "    .dataframe tbody tr th:only-of-type {\n",
       "        vertical-align: middle;\n",
       "    }\n",
       "\n",
       "    .dataframe tbody tr th {\n",
       "        vertical-align: top;\n",
       "    }\n",
       "\n",
       "    .dataframe thead th {\n",
       "        text-align: right;\n",
       "    }\n",
       "</style>\n",
       "<table border=\"1\" class=\"dataframe\">\n",
       "  <thead>\n",
       "    <tr style=\"text-align: right;\">\n",
       "      <th></th>\n",
       "      <th>wall_time</th>\n",
       "      <th>step</th>\n",
       "      <th>value</th>\n",
       "      <th>version</th>\n",
       "    </tr>\n",
       "  </thead>\n",
       "  <tbody>\n",
       "    <tr>\n",
       "      <th>0</th>\n",
       "      <td>1.712412e+09</td>\n",
       "      <td>0</td>\n",
       "      <td>0.463661</td>\n",
       "      <td>0</td>\n",
       "    </tr>\n",
       "    <tr>\n",
       "      <th>1</th>\n",
       "      <td>1.712412e+09</td>\n",
       "      <td>0</td>\n",
       "      <td>0.494518</td>\n",
       "      <td>0</td>\n",
       "    </tr>\n",
       "    <tr>\n",
       "      <th>2</th>\n",
       "      <td>1.712412e+09</td>\n",
       "      <td>0</td>\n",
       "      <td>0.479185</td>\n",
       "      <td>0</td>\n",
       "    </tr>\n",
       "    <tr>\n",
       "      <th>3</th>\n",
       "      <td>1.712412e+09</td>\n",
       "      <td>0</td>\n",
       "      <td>0.499602</td>\n",
       "      <td>0</td>\n",
       "    </tr>\n",
       "    <tr>\n",
       "      <th>4</th>\n",
       "      <td>1.712412e+09</td>\n",
       "      <td>0</td>\n",
       "      <td>0.545424</td>\n",
       "      <td>0</td>\n",
       "    </tr>\n",
       "    <tr>\n",
       "      <th>...</th>\n",
       "      <td>...</td>\n",
       "      <td>...</td>\n",
       "      <td>...</td>\n",
       "      <td>...</td>\n",
       "    </tr>\n",
       "    <tr>\n",
       "      <th>658</th>\n",
       "      <td>1.712524e+09</td>\n",
       "      <td>0</td>\n",
       "      <td>0.609976</td>\n",
       "      <td>43</td>\n",
       "    </tr>\n",
       "    <tr>\n",
       "      <th>659</th>\n",
       "      <td>1.712524e+09</td>\n",
       "      <td>0</td>\n",
       "      <td>0.613700</td>\n",
       "      <td>43</td>\n",
       "    </tr>\n",
       "    <tr>\n",
       "      <th>660</th>\n",
       "      <td>1.712524e+09</td>\n",
       "      <td>0</td>\n",
       "      <td>0.615513</td>\n",
       "      <td>43</td>\n",
       "    </tr>\n",
       "    <tr>\n",
       "      <th>661</th>\n",
       "      <td>1.712524e+09</td>\n",
       "      <td>0</td>\n",
       "      <td>0.756192</td>\n",
       "      <td>43</td>\n",
       "    </tr>\n",
       "    <tr>\n",
       "      <th>662</th>\n",
       "      <td>1.712524e+09</td>\n",
       "      <td>0</td>\n",
       "      <td>0.512966</td>\n",
       "      <td>43</td>\n",
       "    </tr>\n",
       "  </tbody>\n",
       "</table>\n",
       "<p>21254 rows × 4 columns</p>\n",
       "</div>"
      ],
      "text/plain": [
       "        wall_time  step     value  version\n",
       "0    1.712412e+09     0  0.463661        0\n",
       "1    1.712412e+09     0  0.494518        0\n",
       "2    1.712412e+09     0  0.479185        0\n",
       "3    1.712412e+09     0  0.499602        0\n",
       "4    1.712412e+09     0  0.545424        0\n",
       "..            ...   ...       ...      ...\n",
       "658  1.712524e+09     0  0.609976       43\n",
       "659  1.712524e+09     0  0.613700       43\n",
       "660  1.712524e+09     0  0.615513       43\n",
       "661  1.712524e+09     0  0.756192       43\n",
       "662  1.712524e+09     0  0.512966       43\n",
       "\n",
       "[21254 rows x 4 columns]"
      ]
     },
     "execution_count": 30,
     "metadata": {},
     "output_type": "execute_result"
    }
   ],
   "source": [
    "temp_loss_fed"
   ]
  },
  {
   "cell_type": "markdown",
   "metadata": {},
   "source": [
    "### AUC ROC Score Graph - Fed"
   ]
  },
  {
   "cell_type": "code",
   "execution_count": 31,
   "metadata": {},
   "outputs": [
    {
     "data": {
      "text/plain": [
       "Text(0, 0.5, 'Frequency')"
      ]
     },
     "execution_count": 31,
     "metadata": {},
     "output_type": "execute_result"
    },
    {
     "data": {
      "image/png": "[encoded data removed]",
      "text/plain": [
       "<Figure size 640x480 with 1 Axes>"
      ]
     },
     "metadata": {},
     "output_type": "display_data"
    }
   ],
   "source": [
    "ax1 = temp_auc_fed.plot.hist(column='value', edgecolor='black', color='orange')\n",
    "\n",
    "ax1.set_title('AUCROC Score - Trial with 5 clients 10-1 epchs')\n",
    "ax1.set_xlabel(\"ROC Score\")\n",
    "ax1.set_ylabel(\"Frequency\")"
   ]
  },
  {
   "cell_type": "code",
   "execution_count": 32,
   "metadata": {},
   "outputs": [],
   "source": [
    "fig1 = ax1.get_figure()\n",
    "fig1.savefig('auc_roc_score_fed.pdf', format = 'pdf')"
   ]
  },
  {
   "cell_type": "markdown",
   "metadata": {},
   "source": [
    "### Average Precision Score Graph - Fed"
   ]
  },
  {
   "cell_type": "code",
   "execution_count": 33,
   "metadata": {},
   "outputs": [
    {
     "data": {
      "text/plain": [
       "Text(0, 0.5, 'Frequency')"
      ]
     },
     "execution_count": 33,
     "metadata": {},
     "output_type": "execute_result"
    },
    {
     "data": {
      "image/png": "[encoded data removed]",
      "text/plain": [
       "<Figure size 640x480 with 1 Axes>"
      ]
     },
     "metadata": {},
     "output_type": "display_data"
    }
   ],
   "source": [
    "ax2 = temp_avg_prec_fed.plot.hist(column='value', edgecolor='black', color='teal')\n",
    "\n",
    "ax2.set_title('Average Precision Score - Trial with 5 clients 10-1 epchs')\n",
    "ax2.set_xlabel(\"Avg. Precision Score\")\n",
    "ax2.set_ylabel(\"Frequency\")"
   ]
  },
  {
   "cell_type": "code",
   "execution_count": 34,
   "metadata": {},
   "outputs": [],
   "source": [
    "fig2 = ax2.get_figure()\n",
    "fig2.savefig('avg_prec_fed.pdf', format = 'pdf')"
   ]
  },
  {
   "cell_type": "markdown",
   "metadata": {},
   "source": [
    "### MSE Loss Graph - Fed"
   ]
  },
  {
   "cell_type": "code",
   "execution_count": 35,
   "metadata": {},
   "outputs": [
    {
     "data": {
      "text/plain": [
       "Text(0, 0.5, 'Frequency')"
      ]
     },
     "execution_count": 35,
     "metadata": {},
     "output_type": "execute_result"
    },
    {
     "data": {
      "image/png": "[encoded data removed]",
      "text/plain": [
       "<Figure size 640x480 with 1 Axes>"
      ]
     },
     "metadata": {},
     "output_type": "display_data"
    }
   ],
   "source": [
    "ax3 = temp_loss_fed.plot.hist(column='value', bins=10, edgecolor='black', color='magenta')\n",
    "\n",
    "ax3.set_title('Loss - Trial with 5 clients 10-1 epchs')\n",
    "ax3.set_xlabel(\"MSE Loss\")\n",
    "ax3.set_ylabel(\"Frequency\")"
   ]
  },
  {
   "cell_type": "code",
   "execution_count": 36,
   "metadata": {},
   "outputs": [],
   "source": [
    "fig3 = ax3.get_figure()\n",
    "fig3.savefig('mse_loss_fed.pdf', format = 'pdf')"
   ]
  },
  {
   "cell_type": "markdown",
   "metadata": {},
   "source": [
    "## Charts - Centralized"
   ]
  },
  {
   "cell_type": "code",
   "execution_count": 3,
   "metadata": {},
   "outputs": [
    {
     "data": {
      "text/plain": [
       "<tensorboard.backend.event_processing.event_accumulator.EventAccumulator at 0x7f59263651b0>"
      ]
     },
     "execution_count": 3,
     "metadata": {},
     "output_type": "execute_result"
    }
   ],
   "source": [
    "index=0\n",
    "acc = EventAccumulator(\n",
    "        f'/home/labnet/Documents/JulianaPiaz/quickstart-pytorch-lightning/tb_logs/trial_centralized/version_{index}'\n",
    "    )\n",
    "acc.Reload()"
   ]
  },
  {
   "cell_type": "code",
   "execution_count": 4,
   "metadata": {},
   "outputs": [
    {
     "data": {
      "text/plain": [
       "{'images': [],\n",
       " 'audio': [],\n",
       " 'histograms': [],\n",
       " 'scalars': ['train_loss_step',\n",
       "  'train_BCE_loss',\n",
       "  'epoch',\n",
       "  'test_loss',\n",
       "  'test_auc_roc',\n",
       "  'test_avg_precision'],\n",
       " 'distributions': [],\n",
       " 'tensors': [],\n",
       " 'graph': False,\n",
       " 'meta_graph': False,\n",
       " 'run_metadata': []}"
      ]
     },
     "execution_count": 4,
     "metadata": {},
     "output_type": "execute_result"
    }
   ],
   "source": [
    "acc.Tags()"
   ]
  },
  {
   "cell_type": "markdown",
   "metadata": {},
   "source": [
    "### Generate the Dataframes"
   ]
  },
  {
   "cell_type": "code",
   "execution_count": 37,
   "metadata": {},
   "outputs": [
    {
     "name": "stdout",
     "output_type": "stream",
     "text": [
      "0\n",
      "1\n",
      "2\n",
      "3\n",
      "4\n",
      "5\n",
      "6\n",
      "7\n",
      "8\n",
      "9\n",
      "10\n",
      "11\n",
      "12\n",
      "13\n",
      "14\n",
      "15\n",
      "16\n",
      "17\n",
      "18\n",
      "19\n",
      "20\n",
      "21\n",
      "22\n",
      "23\n",
      "24\n",
      "25\n",
      "26\n",
      "27\n",
      "28\n",
      "29\n"
     ]
    }
   ],
   "source": [
    "temp_auc_central = pd.DataFrame()\n",
    "\n",
    "for index in range(30):\n",
    "    acc4 = EventAccumulator(\n",
    "        f'/home/labnet/Documents/JulianaPiaz/quickstart-pytorch-lightning/tb_logs/trial_centralized/version_{index}'\n",
    "    )\n",
    "    acc4.Reload()\n",
    "    print(index)\n",
    "    a1 = pd.DataFrame(acc4.Scalars(\"test_auc_roc\"))\n",
    "    a1['version'] = index\n",
    "    temp_auc_central = pd.concat([temp_auc_central, a1])"
   ]
  },
  {
   "cell_type": "code",
   "execution_count": 38,
   "metadata": {},
   "outputs": [],
   "source": [
    "temp_avg_prec_central = pd.DataFrame()\n",
    "\n",
    "for index in range(30):\n",
    "    acc5 = EventAccumulator(\n",
    "        f'/home/labnet/Documents/JulianaPiaz/quickstart-pytorch-lightning/tb_logs/trial_centralized/version_{index}'\n",
    "    )\n",
    "    acc5.Reload()\n",
    "    b1 = pd.DataFrame(acc5.Scalars(\"test_avg_precision\"))\n",
    "    b1['version'] = index\n",
    "    temp_avg_prec_central = pd.concat([temp_avg_prec_central, b1])"
   ]
  },
  {
   "cell_type": "code",
   "execution_count": 39,
   "metadata": {},
   "outputs": [],
   "source": [
    "temp_loss_central = pd.DataFrame()\n",
    "\n",
    "for index in range(30):\n",
    "    acc6 = EventAccumulator(\n",
    "        f'/home/labnet/Documents/JulianaPiaz/quickstart-pytorch-lightning/tb_logs/trial_centralized/version_{index}'\n",
    "    )\n",
    "    acc6.Reload()\n",
    "    c1 = pd.DataFrame(acc6.Scalars(\"test_loss\"))\n",
    "    c1['version'] = index\n",
    "    temp_loss_central = pd.concat([temp_loss_central, c1])"
   ]
  },
  {
   "cell_type": "markdown",
   "metadata": {},
   "source": [
    "### AUC ROC Graph"
   ]
  },
  {
   "cell_type": "code",
   "execution_count": 40,
   "metadata": {},
   "outputs": [
    {
     "data": {
      "text/plain": [
       "Text(0, 0.5, 'Frequency')"
      ]
     },
     "execution_count": 40,
     "metadata": {},
     "output_type": "execute_result"
    },
    {
     "data": {
      "image/png": "[encoded data removed]",
      "text/plain": [
       "<Figure size 640x480 with 1 Axes>"
      ]
     },
     "metadata": {},
     "output_type": "display_data"
    }
   ],
   "source": [
    "ax4 = temp_auc_central.plot.hist(column='value', edgecolor='black', color='orange')\n",
    "\n",
    "ax4.set_title('AUCROC Score - Centralized Trial 10 epchs')\n",
    "ax4.set_xlabel(\"ROC Score\")\n",
    "ax4.set_ylabel(\"Frequency\")"
   ]
  },
  {
   "cell_type": "code",
   "execution_count": 41,
   "metadata": {},
   "outputs": [],
   "source": [
    "fig4 = ax4.get_figure()\n",
    "fig4.savefig('auc_score_central.pdf', format = 'pdf')"
   ]
  },
  {
   "cell_type": "markdown",
   "metadata": {},
   "source": [
    "### Average Precision Graph"
   ]
  },
  {
   "cell_type": "code",
   "execution_count": 42,
   "metadata": {},
   "outputs": [
    {
     "data": {
      "text/plain": [
       "Text(0, 0.5, 'Frequency')"
      ]
     },
     "execution_count": 42,
     "metadata": {},
     "output_type": "execute_result"
    },
    {
     "data": {
      "image/png": "[encoded data removed]",
      "text/plain": [
       "<Figure size 640x480 with 1 Axes>"
      ]
     },
     "metadata": {},
     "output_type": "display_data"
    }
   ],
   "source": [
    "ax5 = temp_avg_prec_central.plot.hist(column='value', edgecolor='black', color='teal')\n",
    "\n",
    "ax5.set_title('Average Precision Score - Centralized Trial 10 epchs')\n",
    "ax5.set_xlabel(\"Avg. Precision Score\")\n",
    "ax5.set_ylabel(\"Frequency\")"
   ]
  },
  {
   "cell_type": "code",
   "execution_count": 43,
   "metadata": {},
   "outputs": [],
   "source": [
    "fig5 = ax5.get_figure()\n",
    "fig5.savefig('avg_prec_central.pdf', format = 'pdf')"
   ]
  },
  {
   "cell_type": "markdown",
   "metadata": {},
   "source": [
    "### MSE Loss Graph"
   ]
  },
  {
   "cell_type": "code",
   "execution_count": 44,
   "metadata": {},
   "outputs": [
    {
     "data": {
      "text/plain": [
       "Text(0, 0.5, 'Frequency')"
      ]
     },
     "execution_count": 44,
     "metadata": {},
     "output_type": "execute_result"
    },
    {
     "data": {
      "image/png": "[encoded data removed]",
      "text/plain": [
       "<Figure size 640x480 with 1 Axes>"
      ]
     },
     "metadata": {},
     "output_type": "display_data"
    }
   ],
   "source": [
    "ax6 = temp_loss_central.plot.hist(column='value', bins=10, edgecolor='black', color='magenta')\n",
    "\n",
    "ax6.set_title('Loss - Centralized Trial 10 epchs')\n",
    "ax6.set_xlabel(\"MSE Loss\")\n",
    "ax6.set_ylabel(\"Frequency\")"
   ]
  },
  {
   "cell_type": "code",
   "execution_count": 45,
   "metadata": {},
   "outputs": [],
   "source": [
    "fig6 = ax6.get_figure()\n",
    "fig6.savefig('loss_central.pdf', format = 'pdf')"
   ]
  },
  {
   "cell_type": "markdown",
   "metadata": {},
   "source": [
    "## General Tests"
   ]
  },
  {
   "cell_type": "code",
   "execution_count": 17,
   "metadata": {},
   "outputs": [],
   "source": [
    "acc = EventAccumulator(\n",
    "    '/home/labnet/Documents/JulianaPiaz/quickstart-pytorch-lightning/tb_logs/test_no_shuffle/version_0'\n",
    ")"
   ]
  },
  {
   "cell_type": "code",
   "execution_count": 18,
   "metadata": {},
   "outputs": [
    {
     "data": {
      "text/plain": [
       "<tensorboard.backend.event_processing.event_accumulator.EventAccumulator at 0x7f591de0a170>"
      ]
     },
     "execution_count": 18,
     "metadata": {},
     "output_type": "execute_result"
    }
   ],
   "source": [
    "acc.Reload()"
   ]
  },
  {
   "cell_type": "code",
   "execution_count": 19,
   "metadata": {},
   "outputs": [
    {
     "data": {
      "text/plain": [
       "{'images': [],\n",
       " 'audio': [],\n",
       " 'histograms': [],\n",
       " 'scalars': ['train_loss_step', 'train_BCE_loss', 'epoch'],\n",
       " 'distributions': [],\n",
       " 'tensors': [],\n",
       " 'graph': False,\n",
       " 'meta_graph': False,\n",
       " 'run_metadata': []}"
      ]
     },
     "execution_count": 19,
     "metadata": {},
     "output_type": "execute_result"
    }
   ],
   "source": [
    "acc.Tags()"
   ]
  },
  {
   "cell_type": "code",
   "execution_count": 20,
   "metadata": {},
   "outputs": [],
   "source": [
    "temp = pd.DataFrame(acc.Scalars(\"train_BCE_loss\"))"
   ]
  },
  {
   "cell_type": "code",
   "execution_count": 21,
   "metadata": {},
   "outputs": [
    {
     "data": {
      "text/plain": [
       "<Axes: >"
      ]
     },
     "execution_count": 21,
     "metadata": {},
     "output_type": "execute_result"
    },
    {
     "data": {
      "image/png": "[encoded data removed]",
      "text/plain": [
       "<Figure size 640x480 with 1 Axes>"
      ]
     },
     "metadata": {},
     "output_type": "display_data"
    }
   ],
   "source": [
    "temp['value'].hist()"
   ]
  },
  {
   "cell_type": "code",
   "execution_count": 23,
   "metadata": {},
   "outputs": [
    {
     "data": {
      "text/plain": [
       "Text(0, 0.5, 'Version')"
      ]
     },
     "execution_count": 23,
     "metadata": {},
     "output_type": "execute_result"
    },
    {
     "data": {
      "image/png": "[encoded data removed]",
      "text/plain": [
       "<Figure size 640x480 with 1 Axes>"
      ]
     },
     "metadata": {},
     "output_type": "display_data"
    }
   ],
   "source": [
    "ax = temp_auc.plot.scatter(y='version', x='value', c='DarkBlue')\n",
    "# lw=2, colormap='jet', marker='.', markersize=10, \n",
    "ax.set_title('BCE Loss Scatter')\n",
    "ax.set_xlabel(\"ROC Score\")\n",
    "ax.set_ylabel(\"Version\")"
   ]
  }
 ],
 "metadata": {
  "kernelspec": {
   "display_name": "env_flower",
   "language": "python",
   "name": "python3"
  },
  "language_info": {
   "codemirror_mode": {
    "name": "ipython",
    "version": 3
   },
   "file_extension": ".py",
   "mimetype": "text/x-python",
   "name": "python",
   "nbconvert_exporter": "python",
   "pygments_lexer": "ipython3",
   "version": "3.10.12"
  }
 },
 "nbformat": 4,
 "nbformat_minor": 2
}
