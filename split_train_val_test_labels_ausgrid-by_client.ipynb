{
 "cells": [
  {
   "cell_type": "code",
   "execution_count": 11,
   "metadata": {},
   "outputs": [],
   "source": [
    "import pandas as pd\n",
    "import numpy as np\n",
    "from sklearn.model_selection import train_test_split, TimeSeriesSplit\n",
    "from tqdm import tqdm"
   ]
  },
  {
   "cell_type": "code",
   "execution_count": 2,
   "metadata": {},
   "outputs": [],
   "source": [
    "all_data = pd.read_csv('./FedUL/data/ausgrid/2011_2013-anomaly_labeled_dataset.csv', sep=',', index_col='index')\n",
    "clients = all_data['costumer'].unique().tolist()"
   ]
  },
  {
   "cell_type": "code",
   "execution_count": 3,
   "metadata": {},
   "outputs": [
    {
     "data": {
      "text/html": [
       "<div>\n",
       "<style scoped>\n",
       "    .dataframe tbody tr th:only-of-type {\n",
       "        vertical-align: middle;\n",
       "    }\n",
       "\n",
       "    .dataframe tbody tr th {\n",
       "        vertical-align: top;\n",
       "    }\n",
       "\n",
       "    .dataframe thead th {\n",
       "        text-align: right;\n",
       "    }\n",
       "</style>\n",
       "<table border=\"1\" class=\"dataframe\">\n",
       "  <thead>\n",
       "    <tr style=\"text-align: right;\">\n",
       "      <th></th>\n",
       "      <th>costumer</th>\n",
       "      <th>GC</th>\n",
       "      <th>hourofday</th>\n",
       "      <th>minuteofhour</th>\n",
       "      <th>dayofweek</th>\n",
       "      <th>dayofmonth</th>\n",
       "      <th>monthofyear</th>\n",
       "      <th>year</th>\n",
       "      <th>Anomaly</th>\n",
       "    </tr>\n",
       "    <tr>\n",
       "      <th>index</th>\n",
       "      <th></th>\n",
       "      <th></th>\n",
       "      <th></th>\n",
       "      <th></th>\n",
       "      <th></th>\n",
       "      <th></th>\n",
       "      <th></th>\n",
       "      <th></th>\n",
       "      <th></th>\n",
       "    </tr>\n",
       "  </thead>\n",
       "  <tbody>\n",
       "    <tr>\n",
       "      <th>0</th>\n",
       "      <td>7</td>\n",
       "      <td>0.580</td>\n",
       "      <td>0</td>\n",
       "      <td>0</td>\n",
       "      <td>4</td>\n",
       "      <td>1</td>\n",
       "      <td>7</td>\n",
       "      <td>2011</td>\n",
       "      <td>0</td>\n",
       "    </tr>\n",
       "    <tr>\n",
       "      <th>1</th>\n",
       "      <td>7</td>\n",
       "      <td>0.083</td>\n",
       "      <td>0</td>\n",
       "      <td>30</td>\n",
       "      <td>4</td>\n",
       "      <td>1</td>\n",
       "      <td>7</td>\n",
       "      <td>2011</td>\n",
       "      <td>0</td>\n",
       "    </tr>\n",
       "    <tr>\n",
       "      <th>2</th>\n",
       "      <td>7</td>\n",
       "      <td>0.156</td>\n",
       "      <td>1</td>\n",
       "      <td>0</td>\n",
       "      <td>4</td>\n",
       "      <td>1</td>\n",
       "      <td>7</td>\n",
       "      <td>2011</td>\n",
       "      <td>0</td>\n",
       "    </tr>\n",
       "    <tr>\n",
       "      <th>3</th>\n",
       "      <td>7</td>\n",
       "      <td>0.097</td>\n",
       "      <td>1</td>\n",
       "      <td>30</td>\n",
       "      <td>4</td>\n",
       "      <td>1</td>\n",
       "      <td>7</td>\n",
       "      <td>2011</td>\n",
       "      <td>0</td>\n",
       "    </tr>\n",
       "    <tr>\n",
       "      <th>4</th>\n",
       "      <td>7</td>\n",
       "      <td>0.058</td>\n",
       "      <td>2</td>\n",
       "      <td>0</td>\n",
       "      <td>4</td>\n",
       "      <td>1</td>\n",
       "      <td>7</td>\n",
       "      <td>2011</td>\n",
       "      <td>0</td>\n",
       "    </tr>\n",
       "    <tr>\n",
       "      <th>5</th>\n",
       "      <td>7</td>\n",
       "      <td>0.179</td>\n",
       "      <td>2</td>\n",
       "      <td>30</td>\n",
       "      <td>4</td>\n",
       "      <td>1</td>\n",
       "      <td>7</td>\n",
       "      <td>2011</td>\n",
       "      <td>0</td>\n",
       "    </tr>\n",
       "    <tr>\n",
       "      <th>6</th>\n",
       "      <td>7</td>\n",
       "      <td>0.095</td>\n",
       "      <td>3</td>\n",
       "      <td>0</td>\n",
       "      <td>4</td>\n",
       "      <td>1</td>\n",
       "      <td>7</td>\n",
       "      <td>2011</td>\n",
       "      <td>0</td>\n",
       "    </tr>\n",
       "    <tr>\n",
       "      <th>7</th>\n",
       "      <td>7</td>\n",
       "      <td>0.097</td>\n",
       "      <td>3</td>\n",
       "      <td>30</td>\n",
       "      <td>4</td>\n",
       "      <td>1</td>\n",
       "      <td>7</td>\n",
       "      <td>2011</td>\n",
       "      <td>0</td>\n",
       "    </tr>\n",
       "    <tr>\n",
       "      <th>8</th>\n",
       "      <td>7</td>\n",
       "      <td>0.120</td>\n",
       "      <td>4</td>\n",
       "      <td>0</td>\n",
       "      <td>4</td>\n",
       "      <td>1</td>\n",
       "      <td>7</td>\n",
       "      <td>2011</td>\n",
       "      <td>0</td>\n",
       "    </tr>\n",
       "    <tr>\n",
       "      <th>9</th>\n",
       "      <td>7</td>\n",
       "      <td>0.132</td>\n",
       "      <td>4</td>\n",
       "      <td>30</td>\n",
       "      <td>4</td>\n",
       "      <td>1</td>\n",
       "      <td>7</td>\n",
       "      <td>2011</td>\n",
       "      <td>0</td>\n",
       "    </tr>\n",
       "  </tbody>\n",
       "</table>\n",
       "</div>"
      ],
      "text/plain": [
       "       costumer     GC  hourofday  minuteofhour  dayofweek  dayofmonth  \\\n",
       "index                                                                    \n",
       "0             7  0.580          0             0          4           1   \n",
       "1             7  0.083          0            30          4           1   \n",
       "2             7  0.156          1             0          4           1   \n",
       "3             7  0.097          1            30          4           1   \n",
       "4             7  0.058          2             0          4           1   \n",
       "5             7  0.179          2            30          4           1   \n",
       "6             7  0.095          3             0          4           1   \n",
       "7             7  0.097          3            30          4           1   \n",
       "8             7  0.120          4             0          4           1   \n",
       "9             7  0.132          4            30          4           1   \n",
       "\n",
       "       monthofyear  year  Anomaly  \n",
       "index                              \n",
       "0                7  2011        0  \n",
       "1                7  2011        0  \n",
       "2                7  2011        0  \n",
       "3                7  2011        0  \n",
       "4                7  2011        0  \n",
       "5                7  2011        0  \n",
       "6                7  2011        0  \n",
       "7                7  2011        0  \n",
       "8                7  2011        0  \n",
       "9                7  2011        0  "
      ]
     },
     "execution_count": 3,
     "metadata": {},
     "output_type": "execute_result"
    }
   ],
   "source": [
    "all_data.head(10)"
   ]
  },
  {
   "cell_type": "code",
   "execution_count": 4,
   "metadata": {},
   "outputs": [
    {
     "data": {
      "text/plain": [
       "Index(['costumer', 'GC', 'hourofday', 'minuteofhour', 'dayofweek',\n",
       "       'dayofmonth', 'monthofyear', 'year', 'Anomaly'],\n",
       "      dtype='object')"
      ]
     },
     "execution_count": 4,
     "metadata": {},
     "output_type": "execute_result"
    }
   ],
   "source": [
    "all_data.keys()"
   ]
  },
  {
   "cell_type": "code",
   "execution_count": 5,
   "metadata": {},
   "outputs": [
    {
     "data": {
      "text/plain": [
       "[7, 29, 30, 64, 155, 160, 184, 202, 206, 215]"
      ]
     },
     "execution_count": 5,
     "metadata": {},
     "output_type": "execute_result"
    }
   ],
   "source": [
    "clients"
   ]
  },
  {
   "cell_type": "code",
   "execution_count": 6,
   "metadata": {},
   "outputs": [],
   "source": [
    "client_labels = all_data[all_data['costumer']==clients[0]]['Anomaly'].values\n",
    "client_features = all_data[all_data['costumer']==clients[0]].iloc[:, :-1].values"
   ]
  },
  {
   "cell_type": "code",
   "execution_count": 10,
   "metadata": {},
   "outputs": [
    {
     "name": "stderr",
     "output_type": "stream",
     "text": [
      "100%|██████████| 10/10 [00:02<00:00,  4.29it/s]\n"
     ]
    }
   ],
   "source": [
    "# gerando um np.array com label e feature de cada cliente com novos indices\n",
    "for idx, client in enumerate(tqdm(clients)):\n",
    "    \n",
    "    client_labels = all_data[all_data['costumer']==client]['Anomaly'].values\n",
    "    # drop anomaly columns and costumer column\n",
    "    client_features = all_data[all_data['costumer']==client].iloc[:, 1:-1].values\n",
    "\n",
    "\n",
    "    # split train and test(20%) for each client, NO SHUFFLE to avoid Time Leakage\n",
    "    x_train_temp, x_test, y_train_temp, y_test = train_test_split(client_features, client_labels, test_size=0.2, stratify=None, random_state=42, shuffle=False)\n",
    "    \n",
    "    # split train into train and validation (10%) for each client, NO SHUFFLE to avoid Time Leakage\n",
    "    x_train, x_val, y_train, y_val = train_test_split(x_train_temp, y_train_temp, test_size=0.1, stratify=None, random_state=42, shuffle=False)\n",
    "\n",
    "    ### transform to DataFrame\n",
    "\n",
    "    # train\n",
    "    train_table_client = pd.DataFrame.from_records(x_train)\n",
    "    \n",
    "    # val\n",
    "    val_table_client = pd.DataFrame.from_records(x_val)\n",
    "    val_labels_table_client = pd.DataFrame.from_records(y_val.reshape(-1,1))\n",
    "\n",
    "    # test\n",
    "    test_table_client = pd.DataFrame.from_records(x_test)\n",
    "    test_labels_table_client = pd.DataFrame.from_records(y_test.reshape(-1,1))\n",
    "\n",
    "\n",
    "    ### create CSV from client table\n",
    "    # train\n",
    "    train_table_client.to_csv(f'./split_dataset_normal/train_{idx}.csv', index=False)\n",
    "    \n",
    "    # val\n",
    "    val_table_client.to_csv(f'./split_dataset_normal/val_{idx}.csv', index=False)\n",
    "    test_labels_table_client.to_csv(f'./split_dataset_normal/val_label_{idx}.csv', index=False)\n",
    "\n",
    "    # test\n",
    "    test_table_client.to_csv(f'./split_dataset_normal/test_{idx}.csv', index=False)\n",
    "    test_labels_table_client.to_csv(f'./split_dataset_normal/test_label_{idx}.csv', index=False)\n",
    "    "
   ]
  },
  {
   "cell_type": "code",
   "execution_count": null,
   "metadata": {},
   "outputs": [
    {
     "name": "stderr",
     "output_type": "stream",
     "text": [
      "100%|██████████| 10/10 [00:02<00:00,  4.29it/s]\n"
     ]
    }
   ],
   "source": [
    "# gerando um np.array com label e feature de cada cliente com novos indices\n",
    "for idx, client in enumerate(tqdm(clients)):\n",
    "    \n",
    "    client_labels = all_data[all_data['costumer']==client]['Anomaly'].values\n",
    "    # drop anomaly columns and costumer column\n",
    "    client_features = all_data[all_data['costumer']==client].iloc[:, 1:-1].values\n",
    "\n",
    "\n",
    "    # split train and test(20%) for each client, NO SHUFFLE to avoid Time Leakage\n",
    "    x_train_temp, x_test, y_train_temp, y_test = TimeSeriesSplit(client_features, client_labels, test_size=0.2, stratify=None, random_state=42, shuffle=False)\n",
    "    \n",
    "    # split train into train and validation (10%) for each client, NO SHUFFLE to avoid Time Leakage\n",
    "    x_train, x_val, y_train, y_val = TimeSeriesSplit(x_train_temp, y_train_temp, test_size=0.1, stratify=None, random_state=42, shuffle=False)\n",
    "\n",
    "    ### transform to DataFrame\n",
    "\n",
    "    # train\n",
    "    train_table_client = pd.DataFrame.from_records(x_train)\n",
    "    \n",
    "    # val\n",
    "    val_table_client = pd.DataFrame.from_records(x_val)\n",
    "    val_labels_table_client = pd.DataFrame.from_records(y_val.reshape(-1,1))\n",
    "\n",
    "    # test\n",
    "    test_table_client = pd.DataFrame.from_records(x_test)\n",
    "    test_labels_table_client = pd.DataFrame.from_records(y_test.reshape(-1,1))\n",
    "\n",
    "\n",
    "    ### create CSV from client table\n",
    "    # train\n",
    "    train_table_client.to_csv(f'./split_dataset_normal/train_{idx}.csv', index=False)\n",
    "    \n",
    "    # val\n",
    "    val_table_client.to_csv(f'./split_dataset_normal/val_{idx}.csv', index=False)\n",
    "    test_labels_table_client.to_csv(f'./split_dataset_normal/val_label_{idx}.csv', index=False)\n",
    "\n",
    "    # test\n",
    "    test_table_client.to_csv(f'./split_dataset_normal/test_{idx}.csv', index=False)\n",
    "    test_labels_table_client.to_csv(f'./split_dataset_normal/test_label_{idx}.csv', index=False)\n",
    "    "
   ]
  },
  {
   "cell_type": "code",
   "execution_count": 6,
   "metadata": {},
   "outputs": [
    {
     "data": {
      "text/plain": [
       "array([0, 0, 0, ..., 0, 0, 0])"
      ]
     },
     "execution_count": 6,
     "metadata": {},
     "output_type": "execute_result"
    }
   ],
   "source": [
    "client_labels"
   ]
  },
  {
   "cell_type": "code",
   "execution_count": 7,
   "metadata": {},
   "outputs": [
    {
     "data": {
      "text/plain": [
       "array([[7.000e+00, 5.800e-01, 0.000e+00, ..., 1.000e+00, 7.000e+00,\n",
       "        2.011e+03],\n",
       "       [7.000e+00, 8.300e-02, 0.000e+00, ..., 1.000e+00, 7.000e+00,\n",
       "        2.011e+03],\n",
       "       [7.000e+00, 1.560e-01, 1.000e+00, ..., 1.000e+00, 7.000e+00,\n",
       "        2.011e+03],\n",
       "       ...,\n",
       "       [7.000e+00, 7.500e-02, 2.200e+01, ..., 3.000e+01, 6.000e+00,\n",
       "        2.013e+03],\n",
       "       [7.000e+00, 8.700e-02, 2.300e+01, ..., 3.000e+01, 6.000e+00,\n",
       "        2.013e+03],\n",
       "       [7.000e+00, 1.180e-01, 2.300e+01, ..., 3.000e+01, 6.000e+00,\n",
       "        2.013e+03]])"
      ]
     },
     "execution_count": 7,
     "metadata": {},
     "output_type": "execute_result"
    }
   ],
   "source": [
    "client_features"
   ]
  },
  {
   "cell_type": "code",
   "execution_count": 19,
   "metadata": {},
   "outputs": [],
   "source": [
    "# split train and test(20%) for each client\n",
    "x_train_temp, x_test, y_train_temp, y_test = train_test_split(client_features, client_labels, test_size=0.2, stratify=client_labels, random_state=42)\n",
    "\n",
    "# split train into train and validation (10%) for each client\n",
    "x_train, x_val, y_train, y_val = train_test_split(x_train_temp, y_train_temp, test_size=0.1, stratify=y_train_temp, random_state=42)\n"
   ]
  },
  {
   "cell_type": "code",
   "execution_count": 20,
   "metadata": {},
   "outputs": [],
   "source": [
    "# transform to DataFrame\n",
    "t = pd.DataFrame.from_records(y_val.reshape(-1,1))"
   ]
  },
  {
   "cell_type": "code",
   "execution_count": 22,
   "metadata": {},
   "outputs": [],
   "source": [
    "g = pd.DataFrame.from_records(x_val)"
   ]
  },
  {
   "cell_type": "code",
   "execution_count": 21,
   "metadata": {},
   "outputs": [
    {
     "data": {
      "text/plain": [
       "(2807, 1)"
      ]
     },
     "execution_count": 21,
     "metadata": {},
     "output_type": "execute_result"
    }
   ],
   "source": [
    "t.shape"
   ]
  },
  {
   "cell_type": "code",
   "execution_count": 23,
   "metadata": {},
   "outputs": [
    {
     "data": {
      "text/plain": [
       "(2807, 8)"
      ]
     },
     "execution_count": 23,
     "metadata": {},
     "output_type": "execute_result"
    }
   ],
   "source": [
    "g.shape"
   ]
  },
  {
   "cell_type": "code",
   "execution_count": 37,
   "metadata": {},
   "outputs": [],
   "source": [
    "# transformar em tabelas\n",
    "train_table = pd.DataFrame.from_records(temp_x_train)\n",
    "test_table = pd.DataFrame.from_records(temp_x_test)\n",
    "test_labels_table = pd.DataFrame.from_records(temp_y_labels)"
   ]
  },
  {
   "cell_type": "code",
   "execution_count": 38,
   "metadata": {},
   "outputs": [],
   "source": [
    "train_table.to_csv('train.csv', index=False)\n",
    "test_table.to_csv('test.csv', index=False)\n",
    "test_labels_table.to_csv('test_label.csv', index=False)"
   ]
  },
  {
   "cell_type": "code",
   "execution_count": 39,
   "metadata": {},
   "outputs": [
    {
     "data": {
      "text/html": [
       "<div>\n",
       "<style scoped>\n",
       "    .dataframe tbody tr th:only-of-type {\n",
       "        vertical-align: middle;\n",
       "    }\n",
       "\n",
       "    .dataframe tbody tr th {\n",
       "        vertical-align: top;\n",
       "    }\n",
       "\n",
       "    .dataframe thead th {\n",
       "        text-align: right;\n",
       "    }\n",
       "</style>\n",
       "<table border=\"1\" class=\"dataframe\">\n",
       "  <thead>\n",
       "    <tr style=\"text-align: right;\">\n",
       "      <th></th>\n",
       "      <th>0</th>\n",
       "      <th>1</th>\n",
       "      <th>2</th>\n",
       "      <th>3</th>\n",
       "      <th>4</th>\n",
       "      <th>5</th>\n",
       "      <th>6</th>\n",
       "      <th>7</th>\n",
       "    </tr>\n",
       "  </thead>\n",
       "  <tbody>\n",
       "    <tr>\n",
       "      <th>0</th>\n",
       "      <td>7.0</td>\n",
       "      <td>0.196</td>\n",
       "      <td>15.0</td>\n",
       "      <td>0.0</td>\n",
       "      <td>5.0</td>\n",
       "      <td>17.0</td>\n",
       "      <td>3.0</td>\n",
       "      <td>2012.0</td>\n",
       "    </tr>\n",
       "    <tr>\n",
       "      <th>1</th>\n",
       "      <td>7.0</td>\n",
       "      <td>1.222</td>\n",
       "      <td>20.0</td>\n",
       "      <td>30.0</td>\n",
       "      <td>6.0</td>\n",
       "      <td>19.0</td>\n",
       "      <td>8.0</td>\n",
       "      <td>2012.0</td>\n",
       "    </tr>\n",
       "    <tr>\n",
       "      <th>2</th>\n",
       "      <td>7.0</td>\n",
       "      <td>0.261</td>\n",
       "      <td>20.0</td>\n",
       "      <td>0.0</td>\n",
       "      <td>3.0</td>\n",
       "      <td>30.0</td>\n",
       "      <td>8.0</td>\n",
       "      <td>2012.0</td>\n",
       "    </tr>\n",
       "    <tr>\n",
       "      <th>3</th>\n",
       "      <td>7.0</td>\n",
       "      <td>1.088</td>\n",
       "      <td>17.0</td>\n",
       "      <td>30.0</td>\n",
       "      <td>3.0</td>\n",
       "      <td>20.0</td>\n",
       "      <td>6.0</td>\n",
       "      <td>2013.0</td>\n",
       "    </tr>\n",
       "    <tr>\n",
       "      <th>4</th>\n",
       "      <td>7.0</td>\n",
       "      <td>0.388</td>\n",
       "      <td>9.0</td>\n",
       "      <td>30.0</td>\n",
       "      <td>6.0</td>\n",
       "      <td>9.0</td>\n",
       "      <td>6.0</td>\n",
       "      <td>2013.0</td>\n",
       "    </tr>\n",
       "    <tr>\n",
       "      <th>...</th>\n",
       "      <td>...</td>\n",
       "      <td>...</td>\n",
       "      <td>...</td>\n",
       "      <td>...</td>\n",
       "      <td>...</td>\n",
       "      <td>...</td>\n",
       "      <td>...</td>\n",
       "      <td>...</td>\n",
       "    </tr>\n",
       "    <tr>\n",
       "      <th>280695</th>\n",
       "      <td>215.0</td>\n",
       "      <td>0.328</td>\n",
       "      <td>20.0</td>\n",
       "      <td>30.0</td>\n",
       "      <td>0.0</td>\n",
       "      <td>9.0</td>\n",
       "      <td>4.0</td>\n",
       "      <td>2012.0</td>\n",
       "    </tr>\n",
       "    <tr>\n",
       "      <th>280696</th>\n",
       "      <td>215.0</td>\n",
       "      <td>1.274</td>\n",
       "      <td>13.0</td>\n",
       "      <td>0.0</td>\n",
       "      <td>5.0</td>\n",
       "      <td>2.0</td>\n",
       "      <td>6.0</td>\n",
       "      <td>2012.0</td>\n",
       "    </tr>\n",
       "    <tr>\n",
       "      <th>280697</th>\n",
       "      <td>215.0</td>\n",
       "      <td>0.057</td>\n",
       "      <td>16.0</td>\n",
       "      <td>30.0</td>\n",
       "      <td>3.0</td>\n",
       "      <td>16.0</td>\n",
       "      <td>8.0</td>\n",
       "      <td>2012.0</td>\n",
       "    </tr>\n",
       "    <tr>\n",
       "      <th>280698</th>\n",
       "      <td>215.0</td>\n",
       "      <td>0.183</td>\n",
       "      <td>12.0</td>\n",
       "      <td>0.0</td>\n",
       "      <td>3.0</td>\n",
       "      <td>24.0</td>\n",
       "      <td>11.0</td>\n",
       "      <td>2011.0</td>\n",
       "    </tr>\n",
       "    <tr>\n",
       "      <th>280699</th>\n",
       "      <td>215.0</td>\n",
       "      <td>0.369</td>\n",
       "      <td>9.0</td>\n",
       "      <td>30.0</td>\n",
       "      <td>6.0</td>\n",
       "      <td>4.0</td>\n",
       "      <td>3.0</td>\n",
       "      <td>2012.0</td>\n",
       "    </tr>\n",
       "  </tbody>\n",
       "</table>\n",
       "<p>280700 rows × 8 columns</p>\n",
       "</div>"
      ],
      "text/plain": [
       "            0      1     2     3    4     5     6       7\n",
       "0         7.0  0.196  15.0   0.0  5.0  17.0   3.0  2012.0\n",
       "1         7.0  1.222  20.0  30.0  6.0  19.0   8.0  2012.0\n",
       "2         7.0  0.261  20.0   0.0  3.0  30.0   8.0  2012.0\n",
       "3         7.0  1.088  17.0  30.0  3.0  20.0   6.0  2013.0\n",
       "4         7.0  0.388   9.0  30.0  6.0   9.0   6.0  2013.0\n",
       "...       ...    ...   ...   ...  ...   ...   ...     ...\n",
       "280695  215.0  0.328  20.0  30.0  0.0   9.0   4.0  2012.0\n",
       "280696  215.0  1.274  13.0   0.0  5.0   2.0   6.0  2012.0\n",
       "280697  215.0  0.057  16.0  30.0  3.0  16.0   8.0  2012.0\n",
       "280698  215.0  0.183  12.0   0.0  3.0  24.0  11.0  2011.0\n",
       "280699  215.0  0.369   9.0  30.0  6.0   4.0   3.0  2012.0\n",
       "\n",
       "[280700 rows x 8 columns]"
      ]
     },
     "execution_count": 39,
     "metadata": {},
     "output_type": "execute_result"
    }
   ],
   "source": [
    "teste = pd.read_csv('train.csv')\n",
    "teste"
   ]
  }
 ],
 "metadata": {
  "kernelspec": {
   "display_name": ".venv",
   "language": "python",
   "name": "python3"
  },
  "language_info": {
   "codemirror_mode": {
    "name": "ipython",
    "version": 3
   },
   "file_extension": ".py",
   "mimetype": "text/x-python",
   "name": "python",
   "nbconvert_exporter": "python",
   "pygments_lexer": "ipython3",
   "version": "3.11.8"
  }
 },
 "nbformat": 4,
 "nbformat_minor": 2
}
