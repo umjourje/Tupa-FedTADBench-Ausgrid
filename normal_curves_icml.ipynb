{
 "cells": [
  {
   "cell_type": "code",
   "execution_count": 38,
   "metadata": {
    "metadata": {}
   },
   "outputs": [],
   "source": [
    "from tensorboard.backend.event_processing.event_accumulator import EventAccumulator\n",
    "import pandas as pd\n",
    "import numpy as np\n",
    "from scipy import stats\n",
    "import matplotlib.pyplot as plt"
   ]
  },
  {
   "cell_type": "code",
   "execution_count": 43,
   "metadata": {
    "metadata": {}
   },
   "outputs": [],
   "source": [
    "from scipy.stats import skewtest, kurtosis, skew"
   ]
  },
  {
   "cell_type": "markdown",
   "metadata": {},
   "source": [
    "## Centralized - Normal curve Metrics for AUCROC Score"
   ]
  },
  {
   "cell_type": "markdown",
   "metadata": {},
   "source": [
    "### DataFrame from TB logs"
   ]
  },
  {
   "cell_type": "code",
   "execution_count": 6,
   "metadata": {
    "metadata": {}
   },
   "outputs": [
    {
     "name": "stdout",
     "output_type": "stream",
     "text": [
      "0; 1; 2; 3; 4; 5; 6; 7; 8; 9; 10; 11; 12; 13; 14; 15; 16; 17; 18; 19; 20; 21; 22; 23; 24; 25; 26; 27; 28; 29; "
     ]
    }
   ],
   "source": [
    "temp_auc_central = pd.DataFrame()\n",
    "\n",
    "for index in range(30):\n",
    "    acc4 = EventAccumulator(\n",
    "        f'/home/labnet/Documents/JulianaPiaz/quickstart-pytorch-lightning/tb_logs/trial_centralized/version_{index}'\n",
    "    )\n",
    "    acc4.Reload()\n",
    "    print(index, end='; ')\n",
    "    a1 = pd.DataFrame(acc4.Scalars(\"test_auc_roc\"))\n",
    "    a1['version'] = index\n",
    "    temp_auc_central = pd.concat([temp_auc_central, a1])"
   ]
  },
  {
   "cell_type": "code",
   "execution_count": 7,
   "metadata": {
    "metadata": {}
   },
   "outputs": [
    {
     "data": {
      "text/html": [
       "<div>\n",
       "<style scoped>\n",
       "    .dataframe tbody tr th:only-of-type {\n",
       "        vertical-align: middle;\n",
       "    }\n",
       "\n",
       "    .dataframe tbody tr th {\n",
       "        vertical-align: top;\n",
       "    }\n",
       "\n",
       "    .dataframe thead th {\n",
       "        text-align: right;\n",
       "    }\n",
       "</style>\n",
       "<table border=\"1\" class=\"dataframe\">\n",
       "  <thead>\n",
       "    <tr style=\"text-align: right;\">\n",
       "      <th></th>\n",
       "      <th>wall_time</th>\n",
       "      <th>step</th>\n",
       "      <th>value</th>\n",
       "      <th>version</th>\n",
       "    </tr>\n",
       "  </thead>\n",
       "  <tbody>\n",
       "    <tr>\n",
       "      <th>0</th>\n",
       "      <td>1.712672e+09</td>\n",
       "      <td>0</td>\n",
       "      <td>0.451838</td>\n",
       "      <td>0</td>\n",
       "    </tr>\n",
       "    <tr>\n",
       "      <th>0</th>\n",
       "      <td>1.712673e+09</td>\n",
       "      <td>0</td>\n",
       "      <td>0.451058</td>\n",
       "      <td>1</td>\n",
       "    </tr>\n",
       "    <tr>\n",
       "      <th>0</th>\n",
       "      <td>1.712673e+09</td>\n",
       "      <td>0</td>\n",
       "      <td>0.451194</td>\n",
       "      <td>2</td>\n",
       "    </tr>\n",
       "    <tr>\n",
       "      <th>0</th>\n",
       "      <td>1.712676e+09</td>\n",
       "      <td>0</td>\n",
       "      <td>0.453203</td>\n",
       "      <td>3</td>\n",
       "    </tr>\n",
       "    <tr>\n",
       "      <th>0</th>\n",
       "      <td>1.712676e+09</td>\n",
       "      <td>0</td>\n",
       "      <td>0.454952</td>\n",
       "      <td>4</td>\n",
       "    </tr>\n",
       "    <tr>\n",
       "      <th>0</th>\n",
       "      <td>1.712679e+09</td>\n",
       "      <td>0</td>\n",
       "      <td>0.449270</td>\n",
       "      <td>5</td>\n",
       "    </tr>\n",
       "    <tr>\n",
       "      <th>0</th>\n",
       "      <td>1.712679e+09</td>\n",
       "      <td>0</td>\n",
       "      <td>0.450487</td>\n",
       "      <td>6</td>\n",
       "    </tr>\n",
       "    <tr>\n",
       "      <th>0</th>\n",
       "      <td>1.712680e+09</td>\n",
       "      <td>0</td>\n",
       "      <td>0.442888</td>\n",
       "      <td>7</td>\n",
       "    </tr>\n",
       "    <tr>\n",
       "      <th>0</th>\n",
       "      <td>1.712681e+09</td>\n",
       "      <td>0</td>\n",
       "      <td>0.451170</td>\n",
       "      <td>8</td>\n",
       "    </tr>\n",
       "    <tr>\n",
       "      <th>0</th>\n",
       "      <td>1.712681e+09</td>\n",
       "      <td>0</td>\n",
       "      <td>0.450970</td>\n",
       "      <td>9</td>\n",
       "    </tr>\n",
       "    <tr>\n",
       "      <th>0</th>\n",
       "      <td>1.712690e+09</td>\n",
       "      <td>0</td>\n",
       "      <td>0.442592</td>\n",
       "      <td>10</td>\n",
       "    </tr>\n",
       "    <tr>\n",
       "      <th>0</th>\n",
       "      <td>1.712691e+09</td>\n",
       "      <td>0</td>\n",
       "      <td>0.453940</td>\n",
       "      <td>11</td>\n",
       "    </tr>\n",
       "    <tr>\n",
       "      <th>0</th>\n",
       "      <td>1.712691e+09</td>\n",
       "      <td>0</td>\n",
       "      <td>0.452662</td>\n",
       "      <td>12</td>\n",
       "    </tr>\n",
       "    <tr>\n",
       "      <th>0</th>\n",
       "      <td>1.712777e+09</td>\n",
       "      <td>0</td>\n",
       "      <td>0.455112</td>\n",
       "      <td>13</td>\n",
       "    </tr>\n",
       "    <tr>\n",
       "      <th>0</th>\n",
       "      <td>1.712778e+09</td>\n",
       "      <td>0</td>\n",
       "      <td>0.453002</td>\n",
       "      <td>14</td>\n",
       "    </tr>\n",
       "    <tr>\n",
       "      <th>0</th>\n",
       "      <td>1.712778e+09</td>\n",
       "      <td>0</td>\n",
       "      <td>0.447517</td>\n",
       "      <td>15</td>\n",
       "    </tr>\n",
       "    <tr>\n",
       "      <th>0</th>\n",
       "      <td>1.712779e+09</td>\n",
       "      <td>0</td>\n",
       "      <td>0.448870</td>\n",
       "      <td>16</td>\n",
       "    </tr>\n",
       "    <tr>\n",
       "      <th>0</th>\n",
       "      <td>1.712780e+09</td>\n",
       "      <td>0</td>\n",
       "      <td>0.454024</td>\n",
       "      <td>17</td>\n",
       "    </tr>\n",
       "    <tr>\n",
       "      <th>0</th>\n",
       "      <td>1.712781e+09</td>\n",
       "      <td>0</td>\n",
       "      <td>0.446833</td>\n",
       "      <td>18</td>\n",
       "    </tr>\n",
       "    <tr>\n",
       "      <th>0</th>\n",
       "      <td>1.712782e+09</td>\n",
       "      <td>0</td>\n",
       "      <td>0.449851</td>\n",
       "      <td>19</td>\n",
       "    </tr>\n",
       "    <tr>\n",
       "      <th>0</th>\n",
       "      <td>1.712783e+09</td>\n",
       "      <td>0</td>\n",
       "      <td>0.449803</td>\n",
       "      <td>20</td>\n",
       "    </tr>\n",
       "    <tr>\n",
       "      <th>0</th>\n",
       "      <td>1.712784e+09</td>\n",
       "      <td>0</td>\n",
       "      <td>0.450574</td>\n",
       "      <td>21</td>\n",
       "    </tr>\n",
       "    <tr>\n",
       "      <th>0</th>\n",
       "      <td>1.712785e+09</td>\n",
       "      <td>0</td>\n",
       "      <td>0.447813</td>\n",
       "      <td>22</td>\n",
       "    </tr>\n",
       "    <tr>\n",
       "      <th>0</th>\n",
       "      <td>1.712786e+09</td>\n",
       "      <td>0</td>\n",
       "      <td>0.453176</td>\n",
       "      <td>23</td>\n",
       "    </tr>\n",
       "    <tr>\n",
       "      <th>0</th>\n",
       "      <td>1.712786e+09</td>\n",
       "      <td>0</td>\n",
       "      <td>0.451744</td>\n",
       "      <td>24</td>\n",
       "    </tr>\n",
       "    <tr>\n",
       "      <th>0</th>\n",
       "      <td>1.712788e+09</td>\n",
       "      <td>0</td>\n",
       "      <td>0.454376</td>\n",
       "      <td>25</td>\n",
       "    </tr>\n",
       "    <tr>\n",
       "      <th>0</th>\n",
       "      <td>1.712788e+09</td>\n",
       "      <td>0</td>\n",
       "      <td>0.453852</td>\n",
       "      <td>26</td>\n",
       "    </tr>\n",
       "    <tr>\n",
       "      <th>0</th>\n",
       "      <td>1.712788e+09</td>\n",
       "      <td>0</td>\n",
       "      <td>0.450202</td>\n",
       "      <td>27</td>\n",
       "    </tr>\n",
       "    <tr>\n",
       "      <th>0</th>\n",
       "      <td>1.712789e+09</td>\n",
       "      <td>0</td>\n",
       "      <td>0.454708</td>\n",
       "      <td>28</td>\n",
       "    </tr>\n",
       "    <tr>\n",
       "      <th>0</th>\n",
       "      <td>1.712790e+09</td>\n",
       "      <td>0</td>\n",
       "      <td>0.450049</td>\n",
       "      <td>29</td>\n",
       "    </tr>\n",
       "  </tbody>\n",
       "</table>\n",
       "</div>"
      ],
      "text/plain": [
       "      wall_time  step     value  version\n",
       "0  1.712672e+09     0  0.451838        0\n",
       "0  1.712673e+09     0  0.451058        1\n",
       "0  1.712673e+09     0  0.451194        2\n",
       "0  1.712676e+09     0  0.453203        3\n",
       "0  1.712676e+09     0  0.454952        4\n",
       "0  1.712679e+09     0  0.449270        5\n",
       "0  1.712679e+09     0  0.450487        6\n",
       "0  1.712680e+09     0  0.442888        7\n",
       "0  1.712681e+09     0  0.451170        8\n",
       "0  1.712681e+09     0  0.450970        9\n",
       "0  1.712690e+09     0  0.442592       10\n",
       "0  1.712691e+09     0  0.453940       11\n",
       "0  1.712691e+09     0  0.452662       12\n",
       "0  1.712777e+09     0  0.455112       13\n",
       "0  1.712778e+09     0  0.453002       14\n",
       "0  1.712778e+09     0  0.447517       15\n",
       "0  1.712779e+09     0  0.448870       16\n",
       "0  1.712780e+09     0  0.454024       17\n",
       "0  1.712781e+09     0  0.446833       18\n",
       "0  1.712782e+09     0  0.449851       19\n",
       "0  1.712783e+09     0  0.449803       20\n",
       "0  1.712784e+09     0  0.450574       21\n",
       "0  1.712785e+09     0  0.447813       22\n",
       "0  1.712786e+09     0  0.453176       23\n",
       "0  1.712786e+09     0  0.451744       24\n",
       "0  1.712788e+09     0  0.454376       25\n",
       "0  1.712788e+09     0  0.453852       26\n",
       "0  1.712788e+09     0  0.450202       27\n",
       "0  1.712789e+09     0  0.454708       28\n",
       "0  1.712790e+09     0  0.450049       29"
      ]
     },
     "execution_count": 7,
     "metadata": {},
     "output_type": "execute_result"
    }
   ],
   "source": [
    "temp_auc_central"
   ]
  },
  {
   "cell_type": "markdown",
   "metadata": {},
   "source": [
    "### Normal Curve Plot "
   ]
  },
  {
   "cell_type": "code",
   "execution_count": 51,
   "metadata": {
    "metadata": {}
   },
   "outputs": [
    {
     "data": {
      "text/plain": [
       "Text(0.5, 0, 'AUCROC Score')"
      ]
     },
     "execution_count": 51,
     "metadata": {},
     "output_type": "execute_result"
    },
    {
     "data": {
      "image/png": "[encoded data removed]",
      "text/plain": [
       "<Figure size 640x480 with 1 Axes>"
      ]
     },
     "metadata": {},
     "output_type": "display_data"
    }
   ],
   "source": [
    "ax = temp_auc_central.value.plot(kind='hist', density=True)\n",
    "temp_auc_central.value.plot(kind='kde', ax=ax)\n",
    "ax.set_title('Centralized AUCROC Score Histogram and Gaussian')\n",
    "ax.set_xlabel('AUCROC Score')"
   ]
  },
  {
   "cell_type": "markdown",
   "metadata": {},
   "source": [
    "### Calculating Normal Curve Metrics "
   ]
  },
  {
   "cell_type": "markdown",
   "metadata": {},
   "source": [
    "[reference1](https://medium.com/@thiago.dejesus0705/assimetria-e-curtose-estat%C3%ADstica-b%C3%A1sica-usando-o-python-7e2d4a753727)\n",
    "\n",
    "[reference 2](https://www.turing.com/kb/calculating-skewness-and-kurtosis-in-python)\n",
    "\n",
    "---\n",
    "[Skewtest Scipy Documentation](https://docs.scipy.org/doc/scipy/reference/generated/scipy.stats.skewtest.html)\n",
    "\n",
    "[Skew Scipy Documentation](https://docs.scipy.org/doc/scipy/reference/generated/scipy.stats.skew.html)"
   ]
  },
  {
   "cell_type": "code",
   "execution_count": 71,
   "metadata": {
    "metadata": {}
   },
   "outputs": [
    {
     "name": "stdout",
     "output_type": "stream",
     "text": [
      "Z-score: -2.352004984305152\n",
      "P Valor: 0.018672524727474882\n"
     ]
    }
   ],
   "source": [
    "central_caf = skewtest(temp_auc_central['value'])\n",
    "print('Z-score:', central_caf.statistic)\n",
    "print('P Valor:', central_caf.pvalue)"
   ]
  },
  {
   "cell_type": "code",
   "execution_count": 47,
   "metadata": {
    "metadata": {}
   },
   "outputs": [
    {
     "data": {
      "text/plain": [
       "-0.9978176831566947"
      ]
     },
     "execution_count": 47,
     "metadata": {},
     "output_type": "execute_result"
    }
   ],
   "source": [
    "caf_value = skew(temp_auc_central['value'])\n",
    "caf_value"
   ]
  },
  {
   "cell_type": "code",
   "execution_count": 72,
   "metadata": {
    "metadata": {}
   },
   "outputs": [
    {
     "name": "stdout",
     "output_type": "stream",
     "text": [
      "CCF:  0.8566438184503569\n"
     ]
    }
   ],
   "source": [
    "central_ccf = kurtosis(temp_auc_central['value'])\n",
    "print('CCF: ', central_ccf)"
   ]
  },
  {
   "cell_type": "code",
   "execution_count": 73,
   "metadata": {
    "metadata": {}
   },
   "outputs": [],
   "source": [
    "central_n, central_bins = np.histogram(temp_auc_central['value'])\n",
    "central_mids = 0.5*(central_bins[1:] + central_bins[:-1])\n",
    "central_mean = np.average(central_mids, weights=central_n)\n",
    "central_var = np.average((central_mids - central_mean)**2, weights=central_n)\n",
    "central_std_dev = np.sqrt(central_var)"
   ]
  },
  {
   "cell_type": "code",
   "execution_count": 74,
   "metadata": {
    "metadata": {}
   },
   "outputs": [
    {
     "data": {
      "text/plain": [
       "True"
      ]
     },
     "execution_count": 74,
     "metadata": {},
     "output_type": "execute_result"
    }
   ],
   "source": [
    "len(central_mids)==len(central_n)"
   ]
  },
  {
   "cell_type": "code",
   "execution_count": 75,
   "metadata": {
    "metadata": {}
   },
   "outputs": [
    {
     "name": "stdout",
     "output_type": "stream",
     "text": [
      "Média:  0.4509386718273163\n",
      "Variância:  9.100253709712926e-06\n",
      "Desvio Padrão:  0.0030166626774820095\n"
     ]
    }
   ],
   "source": [
    "print('Média: ', central_mean)\n",
    "print('Variância: ', central_var)\n",
    "print('Desvio Padrão: ', central_std_dev)"
   ]
  },
  {
   "cell_type": "markdown",
   "metadata": {},
   "source": [
    "## Federated - Normal curve Metrics for AUCROC Score"
   ]
  },
  {
   "cell_type": "markdown",
   "metadata": {},
   "source": [
    "### DataFrame from TB logs"
   ]
  },
  {
   "cell_type": "code",
   "execution_count": 50,
   "metadata": {
    "metadata": {}
   },
   "outputs": [
    {
     "name": "stdout",
     "output_type": "stream",
     "text": [
      "0; 1; 2; 3; 4; 5; 6; 7; 8; 9; 10; 11; 12; 13; 14; 15; 16; 17; 18; 19; 20; 21; 22; 23; 24; 25; 26; 27; 28; 29; 30; 31; 32; 33; 34; 35; 36; 37; 38; 39; 40; 41; 42; 43; "
     ]
    }
   ],
   "source": [
    "temp_auc_fed = pd.DataFrame()\n",
    "\n",
    "for index in range(44):\n",
    "    acc = EventAccumulator(\n",
    "        f'/home/labnet/Documents/JulianaPiaz/quickstart-pytorch-lightning/tb_logs/trial_5c/version_{index}'\n",
    "    )\n",
    "    acc.Reload()\n",
    "    print(index, end='; ')\n",
    "    if(index not in [21, 23, 29, 33, 34]):\n",
    "        a = pd.DataFrame(acc.Scalars(\"test_auc_roc\"))\n",
    "        a['version'] = index\n",
    "        temp_auc_fed = pd.concat([temp_auc_fed, a])"
   ]
  },
  {
   "cell_type": "code",
   "execution_count": 60,
   "metadata": {
    "metadata": {}
   },
   "outputs": [
    {
     "data": {
      "text/html": [
       "<div>\n",
       "<style scoped>\n",
       "    .dataframe tbody tr th:only-of-type {\n",
       "        vertical-align: middle;\n",
       "    }\n",
       "\n",
       "    .dataframe tbody tr th {\n",
       "        vertical-align: top;\n",
       "    }\n",
       "\n",
       "    .dataframe thead th {\n",
       "        text-align: right;\n",
       "    }\n",
       "</style>\n",
       "<table border=\"1\" class=\"dataframe\">\n",
       "  <thead>\n",
       "    <tr style=\"text-align: right;\">\n",
       "      <th></th>\n",
       "      <th>wall_time</th>\n",
       "      <th>step</th>\n",
       "      <th>value</th>\n",
       "      <th>version</th>\n",
       "    </tr>\n",
       "  </thead>\n",
       "  <tbody>\n",
       "    <tr>\n",
       "      <th>0</th>\n",
       "      <td>1.712412e+09</td>\n",
       "      <td>0</td>\n",
       "      <td>0.596543</td>\n",
       "      <td>0</td>\n",
       "    </tr>\n",
       "    <tr>\n",
       "      <th>0</th>\n",
       "      <td>1.712412e+09</td>\n",
       "      <td>0</td>\n",
       "      <td>0.508669</td>\n",
       "      <td>1</td>\n",
       "    </tr>\n",
       "    <tr>\n",
       "      <th>0</th>\n",
       "      <td>1.712412e+09</td>\n",
       "      <td>0</td>\n",
       "      <td>0.494705</td>\n",
       "      <td>2</td>\n",
       "    </tr>\n",
       "    <tr>\n",
       "      <th>1</th>\n",
       "      <td>1.712412e+09</td>\n",
       "      <td>0</td>\n",
       "      <td>0.517512</td>\n",
       "      <td>2</td>\n",
       "    </tr>\n",
       "    <tr>\n",
       "      <th>2</th>\n",
       "      <td>1.712412e+09</td>\n",
       "      <td>0</td>\n",
       "      <td>0.495359</td>\n",
       "      <td>2</td>\n",
       "    </tr>\n",
       "    <tr>\n",
       "      <th>...</th>\n",
       "      <td>...</td>\n",
       "      <td>...</td>\n",
       "      <td>...</td>\n",
       "      <td>...</td>\n",
       "    </tr>\n",
       "    <tr>\n",
       "      <th>0</th>\n",
       "      <td>1.712523e+09</td>\n",
       "      <td>0</td>\n",
       "      <td>0.547653</td>\n",
       "      <td>42</td>\n",
       "    </tr>\n",
       "    <tr>\n",
       "      <th>1</th>\n",
       "      <td>1.712523e+09</td>\n",
       "      <td>0</td>\n",
       "      <td>0.547949</td>\n",
       "      <td>42</td>\n",
       "    </tr>\n",
       "    <tr>\n",
       "      <th>0</th>\n",
       "      <td>1.712523e+09</td>\n",
       "      <td>0</td>\n",
       "      <td>0.514041</td>\n",
       "      <td>43</td>\n",
       "    </tr>\n",
       "    <tr>\n",
       "      <th>1</th>\n",
       "      <td>1.712523e+09</td>\n",
       "      <td>0</td>\n",
       "      <td>0.514779</td>\n",
       "      <td>43</td>\n",
       "    </tr>\n",
       "    <tr>\n",
       "      <th>2</th>\n",
       "      <td>1.712524e+09</td>\n",
       "      <td>0</td>\n",
       "      <td>0.515148</td>\n",
       "      <td>43</td>\n",
       "    </tr>\n",
       "  </tbody>\n",
       "</table>\n",
       "<p>96 rows × 4 columns</p>\n",
       "</div>"
      ],
      "text/plain": [
       "       wall_time  step     value  version\n",
       "0   1.712412e+09     0  0.596543        0\n",
       "0   1.712412e+09     0  0.508669        1\n",
       "0   1.712412e+09     0  0.494705        2\n",
       "1   1.712412e+09     0  0.517512        2\n",
       "2   1.712412e+09     0  0.495359        2\n",
       "..           ...   ...       ...      ...\n",
       "0   1.712523e+09     0  0.547653       42\n",
       "1   1.712523e+09     0  0.547949       42\n",
       "0   1.712523e+09     0  0.514041       43\n",
       "1   1.712523e+09     0  0.514779       43\n",
       "2   1.712524e+09     0  0.515148       43\n",
       "\n",
       "[96 rows x 4 columns]"
      ]
     },
     "execution_count": 60,
     "metadata": {},
     "output_type": "execute_result"
    }
   ],
   "source": [
    "temp_auc_fed"
   ]
  },
  {
   "cell_type": "markdown",
   "metadata": {},
   "source": [
    "### Normal Curve Plot"
   ]
  },
  {
   "cell_type": "code",
   "execution_count": 59,
   "metadata": {
    "metadata": {}
   },
   "outputs": [
    {
     "data": {
      "text/plain": [
       "Text(0.5, 0, 'AUCROC Score')"
      ]
     },
     "execution_count": 59,
     "metadata": {},
     "output_type": "execute_result"
    },
    {
     "data": {
      "image/png": "[encoded data removed]",
      "text/plain": [
       "<Figure size 640x480 with 1 Axes>"
      ]
     },
     "metadata": {},
     "output_type": "display_data"
    }
   ],
   "source": [
    "ax = temp_auc_fed.value.plot(kind='hist', density=True)\n",
    "temp_auc_fed.value.plot(kind='kde', ax=ax)\n",
    "ax.set_title('Federated AUCROC Score Histogram and Gaussian')\n",
    "ax.set_xlabel('AUCROC Score')"
   ]
  },
  {
   "cell_type": "markdown",
   "metadata": {},
   "source": [
    "### Calculating Normal Curve Metrics"
   ]
  },
  {
   "cell_type": "code",
   "execution_count": 57,
   "metadata": {
    "metadata": {}
   },
   "outputs": [
    {
     "name": "stdout",
     "output_type": "stream",
     "text": [
      "Z-score: 4.538025869280704\n",
      "P Valor: 5.678329595002701e-06\n"
     ]
    }
   ],
   "source": [
    "federated_caf = skewtest(temp_auc_fed['value'])\n",
    "print('Z-score:', federated_caf.statistic)\n",
    "print('P Valor:', federated_caf.pvalue)"
   ]
  },
  {
   "cell_type": "code",
   "execution_count": 61,
   "metadata": {
    "metadata": {}
   },
   "outputs": [
    {
     "data": {
      "text/plain": [
       "1.3224487403322078"
      ]
     },
     "execution_count": 61,
     "metadata": {},
     "output_type": "execute_result"
    }
   ],
   "source": [
    "caf_value = skew(temp_auc_fed['value'])\n",
    "caf_value"
   ]
  },
  {
   "cell_type": "code",
   "execution_count": 62,
   "metadata": {
    "metadata": {}
   },
   "outputs": [
    {
     "name": "stdout",
     "output_type": "stream",
     "text": [
      "CCF:  0.8586006750435433\n"
     ]
    }
   ],
   "source": [
    "federated_ccf = kurtosis(temp_auc_fed['value'])\n",
    "print('CCF: ', federated_ccf)"
   ]
  },
  {
   "cell_type": "code",
   "execution_count": 64,
   "metadata": {
    "metadata": {}
   },
   "outputs": [],
   "source": [
    "federated_n, federated_bins = np.histogram(temp_auc_fed['value'])\n",
    "federated_mids = 0.5*(federated_bins[1:] + federated_bins[:-1])\n",
    "federated_mean = np.average(federated_mids, weights=federated_n)\n",
    "federated_var = np.average((federated_mids - federated_mean)**2, weights=federated_n)\n",
    "federated_std_dev = np.sqrt(federated_var)"
   ]
  },
  {
   "cell_type": "code",
   "execution_count": 65,
   "metadata": {
    "metadata": {}
   },
   "outputs": [
    {
     "data": {
      "text/plain": [
       "True"
      ]
     },
     "execution_count": 65,
     "metadata": {},
     "output_type": "execute_result"
    }
   ],
   "source": [
    "len(federated_mids)==len(federated_n)"
   ]
  },
  {
   "cell_type": "code",
   "execution_count": 66,
   "metadata": {
    "metadata": {}
   },
   "outputs": [
    {
     "name": "stdout",
     "output_type": "stream",
     "text": [
      "Média:  0.5266927247246106\n",
      "Variância:  0.0009510182822200175\n",
      "Desvio Padrão:  0.030838584309595303\n"
     ]
    }
   ],
   "source": [
    "print('Média: ', federated_mean)\n",
    "print('Variância: ', federated_var)\n",
    "print('Desvio Padrão: ', federated_std_dev)"
   ]
  },
  {
   "cell_type": "markdown",
   "metadata": {},
   "source": [
    "## Making Pandas DataFrame with Metrics"
   ]
  },
  {
   "cell_type": "code",
   "execution_count": 69,
   "metadata": {
    "metadata": {}
   },
   "outputs": [],
   "source": [
    "data = ([[federated_ccf, federated_caf.statistic, federated_mean, federated_var, federated_std_dev], [central_ccf, central_caf.statistic, central_mean, central_var, central_std_dev]]) \n",
    "metrics = pd.DataFrame(data, columns=['kurtosis', 'asymmetry', 'mean', 'variance', 'standart_deviation'], index=['federated', 'centralized'])"
   ]
  },
  {
   "cell_type": "code",
   "execution_count": 70,
   "metadata": {
    "metadata": {}
   },
   "outputs": [
    {
     "data": {
      "text/html": [
       "<div>\n",
       "<style scoped>\n",
       "    .dataframe tbody tr th:only-of-type {\n",
       "        vertical-align: middle;\n",
       "    }\n",
       "\n",
       "    .dataframe tbody tr th {\n",
       "        vertical-align: top;\n",
       "    }\n",
       "\n",
       "    .dataframe thead th {\n",
       "        text-align: right;\n",
       "    }\n",
       "</style>\n",
       "<table border=\"1\" class=\"dataframe\">\n",
       "  <thead>\n",
       "    <tr style=\"text-align: right;\">\n",
       "      <th></th>\n",
       "      <th>kurtosis</th>\n",
       "      <th>asymmetry</th>\n",
       "      <th>mean</th>\n",
       "      <th>variance</th>\n",
       "      <th>standart_deviation</th>\n",
       "    </tr>\n",
       "  </thead>\n",
       "  <tbody>\n",
       "    <tr>\n",
       "      <th>federated</th>\n",
       "      <td>0.858601</td>\n",
       "      <td>4.538026</td>\n",
       "      <td>0.526693</td>\n",
       "      <td>0.000951</td>\n",
       "      <td>0.030839</td>\n",
       "    </tr>\n",
       "    <tr>\n",
       "      <th>centralized</th>\n",
       "      <td>0.856644</td>\n",
       "      <td>-2.352005</td>\n",
       "      <td>0.450939</td>\n",
       "      <td>0.000009</td>\n",
       "      <td>0.003017</td>\n",
       "    </tr>\n",
       "  </tbody>\n",
       "</table>\n",
       "</div>"
      ],
      "text/plain": [
       "             kurtosis  asymmetry      mean  variance  standart_deviation\n",
       "federated    0.858601   4.538026  0.526693  0.000951            0.030839\n",
       "centralized  0.856644  -2.352005  0.450939  0.000009            0.003017"
      ]
     },
     "execution_count": 70,
     "metadata": {},
     "output_type": "execute_result"
    }
   ],
   "source": [
    "metrics"
   ]
  },
  {
   "cell_type": "code",
   "execution_count": 79,
   "metadata": {
    "metadata": {}
   },
   "outputs": [],
   "source": [
    "metrics.to_csv('aucroc_histogram_metrics.csv', sep=';', index_label='architecture')"
   ]
  }
 ],
 "metadata": {
  "kernelspec": {
   "display_name": ".venv",
   "language": "python",
   "name": "python3"
  },
  "language_info": {
   "codemirror_mode": {
    "name": "ipython",
    "version": 3
   },
   "file_extension": ".py",
   "mimetype": "text/x-python",
   "name": "python",
   "nbconvert_exporter": "python",
   "pygments_lexer": "ipython3",
   "version": "3.10.12"
  }
 },
 "nbformat": 4,
 "nbformat_minor": 2
}
